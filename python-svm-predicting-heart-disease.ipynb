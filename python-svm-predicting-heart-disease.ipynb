{
 "cells": [
  {
   "cell_type": "markdown",
   "id": "f3464c5a-292b-4d55-8b77-cb96ca4ee520",
   "metadata": {
    "tags": []
   },
   "source": [
    "# Predicting Heart Disease Using a Support Vector Classifier"
   ]
  },
  {
   "cell_type": "markdown",
   "id": "ff8edfa1-15b4-47d1-afca-da4ff9bc526c",
   "metadata": {
    "tags": []
   },
   "source": [
    "## 1. Introduction:"
   ]
  },
  {
   "cell_type": "markdown",
   "id": "20fedac9-46dc-4a8f-9ef9-77a94ff82dd8",
   "metadata": {
    "tags": []
   },
   "source": [
    "### Background:"
   ]
  },
  {
   "cell_type": "markdown",
   "id": "666906f8-a14d-4c5c-a39a-30dcee6e25f1",
   "metadata": {},
   "source": [
    "The purpose"
   ]
  },
  {
   "cell_type": "markdown",
   "id": "6a0dbab3-3245-44fc-9511-a9cdf68b34de",
   "metadata": {},
   "source": [
    "### Objective:"
   ]
  },
  {
   "cell_type": "markdown",
   "id": "489dca9b-4c24-4dd6-9120-012e25abf145",
   "metadata": {},
   "source": []
  },
  {
   "cell_type": "markdown",
   "id": "cd3f3a2f-b066-426f-b816-961eb0c052f7",
   "metadata": {
    "tags": []
   },
   "source": [
    "### Datasets:"
   ]
  },
  {
   "cell_type": "markdown",
   "id": "895f57d5-388c-4f71-a325-0207fed845a2",
   "metadata": {},
   "source": []
  },
  {
   "cell_type": "markdown",
   "id": "88489e0a-db6b-4256-abd9-a6c185dadaec",
   "metadata": {
    "tags": []
   },
   "source": [
    "### Tech Stack:"
   ]
  },
  {
   "cell_type": "markdown",
   "id": "427f8eac-8640-4e39-867f-92bbfa06f7a6",
   "metadata": {},
   "source": [
    "The following tools and libraries are used in this project:\n",
    "- Python\n",
    "- Pandas\n",
    "- Matplotlib\n",
    "- Statsmodels"
   ]
  },
  {
   "cell_type": "markdown",
   "id": "94b8b95c-6465-4bc4-a7cc-ad819852715a",
   "metadata": {},
   "source": [
    "## 2. Setup and Imports:"
   ]
  },
  {
   "cell_type": "markdown",
   "id": "c524ccb8-5050-4436-b8d6-dc423d64cc3c",
   "metadata": {},
   "source": [
    "### Library Imports:"
   ]
  },
  {
   "cell_type": "code",
   "execution_count": 1,
   "id": "a15eff0c-a346-4d0c-96cb-33906c7723f4",
   "metadata": {
    "tags": []
   },
   "outputs": [],
   "source": [
    "# Standard library imports\n",
    "import numpy as np\n",
    "import pandas as pd\n",
    "import matplotlib.pyplot as plt\n",
    "import seaborn as sns\n",
    "from statistics import mean\n",
    "\n",
    "# Scipy and Statsmodels imports for statistical analysis\n",
    "from scipy.stats import pointbiserialr, chi2_contingency\n",
    "import statsmodels.formula.api as smf\n",
    "\n",
    "# Scikit-learn imports for machine learning models, metrics, and preprocessing\n",
    "from sklearn.model_selection import (GridSearchCV, train_test_split, StratifiedKFold,\n",
    "                                     cross_val_score, StratifiedShuffleSplit, cross_validate)\n",
    "from sklearn.tree import DecisionTreeClassifier, plot_tree\n",
    "from sklearn.naive_bayes import CategoricalNB\n",
    "from sklearn.metrics import (accuracy_score, recall_score, precision_score, f1_score, \n",
    "                             confusion_matrix, classification_report, roc_curve, auc)\n",
    "from sklearn.pipeline import Pipeline\n",
    "from sklearn.preprocessing import StandardScaler\n",
    "from sklearn.linear_model import LogisticRegression\n",
    "from sklearn.svm import SVC\n",
    "from sklearn.decomposition import PCA\n",
    "\n",
    "# IPython for HTML display\n",
    "from IPython.core.display import HTML"
   ]
  },
  {
   "cell_type": "markdown",
   "id": "bdc69f69-5cc8-49a0-b653-401d7ab21d46",
   "metadata": {},
   "source": [
    "### CSS Styling:"
   ]
  },
  {
   "cell_type": "code",
   "execution_count": 12,
   "id": "ed9b234f-f872-4205-a2a9-9590de40db15",
   "metadata": {
    "tags": []
   },
   "outputs": [
    {
     "data": {
      "text/html": [
       "<style>/* Main Section Heading */\n",
       "h1 {\n",
       "    font-size: 3em;  /* Larger size for the main heading */\n",
       "    font-weight: bold;\n",
       "    text-align: center;\n",
       "    color: #4CAF50;  /* Green color for emphasis */\n",
       "}\n",
       "\n",
       "/* Subsection Heading */\n",
       "h2 {\n",
       "    font-size: 2.25em;  /* Slightly smaller than h1 */\n",
       "    font-weight: bold;\n",
       "    color: #0056b3;  /* Darker blue for secondary heading */\n",
       "    border-bottom: 2px solid #0056b3;  /* Underline effect */\n",
       "    display: inline-block;\n",
       "    padding: 1px 0;  /* Less padding to keep it compact */\n",
       "}\n",
       "\n",
       "/* Sub-Subsection Heading */\n",
       "h3 {\n",
       "    font-size: 1.75em;  /* Slightly bigger for clearer distinction */\n",
       "    font-weight: normal;\n",
       "    color: #0066cc;  /* Standard Bootstrap blue */\n",
       "    border-bottom: 1px solid #0066cc;  /* Thinner border */\n",
       "    display: inline-block;\n",
       "    padding: 5px 0;  /* Less padding to keep it compact */\n",
       "}\n",
       "\n",
       "/* Sub-Sub-Subsection Heading (h4) */\n",
       "h4 {\n",
       "    font-size: 1.5em;  /* Smaller than h3 but still readable */\n",
       "    font-weight: normal;  /* Slightly less emphasis than h3 */\n",
       "    color: #007bff;  /* Muted gray color to maintain hierarchy */\n",
       "    padding: 5px 0;  /* Less padding to keep it compact */\n",
       "}\n",
       "\n",
       "/* Style for paragraph text */\n",
       "p {\n",
       "    font-size: 14px;  /* Slightly larger for better readability */\n",
       "    color: #333333;  /* Dark text for high contrast */\n",
       "    font-family: 'Arial', sans-serif;\n",
       "    line-height: 1.5;  /* Improve readability with line height */\n",
       "    padding: 5px 0;\n",
       "}</style>"
      ],
      "text/plain": [
       "<IPython.core.display.HTML object>"
      ]
     },
     "execution_count": 12,
     "metadata": {},
     "output_type": "execute_result"
    }
   ],
   "source": [
    "# Importing custom CSS for styling\n",
    "\n",
    "css = open('style.css').read()\n",
    "HTML('<style>{}</style>'.format(css))"
   ]
  },
  {
   "cell_type": "markdown",
   "id": "aed68394-5430-480b-b065-1de29c43dbae",
   "metadata": {
    "tags": []
   },
   "source": [
    "## 3. Data Processing & Exploration - Kaggle Dataset"
   ]
  },
  {
   "cell_type": "markdown",
   "id": "17ad6ada-f619-4ad1-9904-98ced28fc770",
   "metadata": {},
   "source": [
    "### 3.1 Data Processing"
   ]
  },
  {
   "cell_type": "markdown",
   "id": "150b865d-2938-43c8-a7bf-db61ae885f14",
   "metadata": {
    "jp-MarkdownHeadingCollapsed": true
   },
   "source": [
    "#### Data Loading"
   ]
  },
  {
   "cell_type": "markdown",
   "id": "1ba7255d-e550-428d-a663-45b5266eef66",
   "metadata": {},
   "source": [
    "1. Load the dataset from 'kaggle-heart.csv' into a pandas DataFrame, handling missing values.\n",
    "2. Preview the first 2 rows to ensure the data has been loaded correctly."
   ]
  },
  {
   "cell_type": "code",
   "execution_count": 3,
   "id": "354b9448-95fe-4c39-9730-3cd3b90cad4b",
   "metadata": {},
   "outputs": [
    {
     "data": {
      "text/html": [
       "<div>\n",
       "<style scoped>\n",
       "    .dataframe tbody tr th:only-of-type {\n",
       "        vertical-align: middle;\n",
       "    }\n",
       "\n",
       "    .dataframe tbody tr th {\n",
       "        vertical-align: top;\n",
       "    }\n",
       "\n",
       "    .dataframe thead th {\n",
       "        text-align: right;\n",
       "    }\n",
       "</style>\n",
       "<table border=\"1\" class=\"dataframe\">\n",
       "  <thead>\n",
       "    <tr style=\"text-align: right;\">\n",
       "      <th></th>\n",
       "      <th>age</th>\n",
       "      <th>sex</th>\n",
       "      <th>cp</th>\n",
       "      <th>trestbps</th>\n",
       "      <th>chol</th>\n",
       "      <th>fbs</th>\n",
       "      <th>restecg</th>\n",
       "      <th>thalach</th>\n",
       "      <th>exang</th>\n",
       "      <th>oldpeak</th>\n",
       "      <th>slope</th>\n",
       "      <th>ca</th>\n",
       "      <th>thal</th>\n",
       "      <th>target</th>\n",
       "    </tr>\n",
       "  </thead>\n",
       "  <tbody>\n",
       "    <tr>\n",
       "      <th>0</th>\n",
       "      <td>52</td>\n",
       "      <td>1</td>\n",
       "      <td>0</td>\n",
       "      <td>125</td>\n",
       "      <td>212</td>\n",
       "      <td>0</td>\n",
       "      <td>1</td>\n",
       "      <td>168</td>\n",
       "      <td>0</td>\n",
       "      <td>1.0</td>\n",
       "      <td>2</td>\n",
       "      <td>2</td>\n",
       "      <td>3</td>\n",
       "      <td>0</td>\n",
       "    </tr>\n",
       "    <tr>\n",
       "      <th>1</th>\n",
       "      <td>53</td>\n",
       "      <td>1</td>\n",
       "      <td>0</td>\n",
       "      <td>140</td>\n",
       "      <td>203</td>\n",
       "      <td>1</td>\n",
       "      <td>0</td>\n",
       "      <td>155</td>\n",
       "      <td>1</td>\n",
       "      <td>3.1</td>\n",
       "      <td>0</td>\n",
       "      <td>0</td>\n",
       "      <td>3</td>\n",
       "      <td>0</td>\n",
       "    </tr>\n",
       "  </tbody>\n",
       "</table>\n",
       "</div>"
      ],
      "text/plain": [
       "   age  sex  cp  trestbps  chol  fbs  restecg  thalach  exang  oldpeak  slope  \\\n",
       "0   52    1   0       125   212    0        1      168      0      1.0      2   \n",
       "1   53    1   0       140   203    1        0      155      1      3.1      0   \n",
       "\n",
       "   ca  thal  target  \n",
       "0   2     3       0  \n",
       "1   0     3       0  "
      ]
     },
     "execution_count": 3,
     "metadata": {},
     "output_type": "execute_result"
    }
   ],
   "source": [
    "# Load the kaggle-heart.csv dataset into a DataFrame called \"df_kaggle\"\n",
    "# We treat \" \", \"?\", and \"NA\" as missing values and replace them with NaN\n",
    "df_kaggle = pd.read_csv('kaggle-heart.csv', na_values=[\" \",\"?\",\"NA\"])\n",
    "\n",
    "# Display the first two rows of the dataset for inspection\n",
    "df_kaggle.head(2)"
   ]
  },
  {
   "cell_type": "markdown",
   "id": "7c78ac7b-b9bc-498d-af48-107e09d89523",
   "metadata": {
    "jp-MarkdownHeadingCollapsed": true
   },
   "source": [
    "#### Data Dictionary"
   ]
  },
  {
   "cell_type": "markdown",
   "id": "70d2264d-bba9-4389-a0eb-7d1e8856e04c",
   "metadata": {},
   "source": [
    "1. Extract column names and data types from the dataset.\n",
    "2. Add descriptions for each column based on the dataset documentation.\n",
    "3. Calculate the min and max values for each numerical column.\n",
    "4. Combine all information into a single DataFrame."
   ]
  },
  {
   "cell_type": "code",
   "execution_count": 4,
   "id": "ad80537f-4411-4f84-a7b9-c215741164a7",
   "metadata": {},
   "outputs": [
    {
     "data": {
      "text/html": [
       "<div>\n",
       "<style scoped>\n",
       "    .dataframe tbody tr th:only-of-type {\n",
       "        vertical-align: middle;\n",
       "    }\n",
       "\n",
       "    .dataframe tbody tr th {\n",
       "        vertical-align: top;\n",
       "    }\n",
       "\n",
       "    .dataframe thead th {\n",
       "        text-align: right;\n",
       "    }\n",
       "</style>\n",
       "<table border=\"1\" class=\"dataframe\">\n",
       "  <thead>\n",
       "    <tr style=\"text-align: right;\">\n",
       "      <th></th>\n",
       "      <th>FieldName</th>\n",
       "      <th>DataType</th>\n",
       "      <th>Description</th>\n",
       "      <th>Min</th>\n",
       "      <th>Max</th>\n",
       "    </tr>\n",
       "  </thead>\n",
       "  <tbody>\n",
       "    <tr>\n",
       "      <th>0</th>\n",
       "      <td>age</td>\n",
       "      <td>int64</td>\n",
       "      <td>age</td>\n",
       "      <td>29.0</td>\n",
       "      <td>77.0</td>\n",
       "    </tr>\n",
       "    <tr>\n",
       "      <th>1</th>\n",
       "      <td>sex</td>\n",
       "      <td>int64</td>\n",
       "      <td>sex</td>\n",
       "      <td>0.0</td>\n",
       "      <td>1.0</td>\n",
       "    </tr>\n",
       "    <tr>\n",
       "      <th>2</th>\n",
       "      <td>cp</td>\n",
       "      <td>int64</td>\n",
       "      <td>chest pain type (4 values)</td>\n",
       "      <td>0.0</td>\n",
       "      <td>3.0</td>\n",
       "    </tr>\n",
       "    <tr>\n",
       "      <th>3</th>\n",
       "      <td>trestbps</td>\n",
       "      <td>int64</td>\n",
       "      <td>resting blood pressure</td>\n",
       "      <td>94.0</td>\n",
       "      <td>200.0</td>\n",
       "    </tr>\n",
       "    <tr>\n",
       "      <th>4</th>\n",
       "      <td>chol</td>\n",
       "      <td>int64</td>\n",
       "      <td>serum cholestoral in mg/dl</td>\n",
       "      <td>126.0</td>\n",
       "      <td>564.0</td>\n",
       "    </tr>\n",
       "    <tr>\n",
       "      <th>5</th>\n",
       "      <td>fbs</td>\n",
       "      <td>int64</td>\n",
       "      <td>fasting blood sugar &gt; 120 mg/dl</td>\n",
       "      <td>0.0</td>\n",
       "      <td>1.0</td>\n",
       "    </tr>\n",
       "    <tr>\n",
       "      <th>6</th>\n",
       "      <td>restecg</td>\n",
       "      <td>int64</td>\n",
       "      <td>resting electrocardiographic results (values 0...</td>\n",
       "      <td>0.0</td>\n",
       "      <td>2.0</td>\n",
       "    </tr>\n",
       "    <tr>\n",
       "      <th>7</th>\n",
       "      <td>thalach</td>\n",
       "      <td>int64</td>\n",
       "      <td>maximum heart rate achieved</td>\n",
       "      <td>71.0</td>\n",
       "      <td>202.0</td>\n",
       "    </tr>\n",
       "    <tr>\n",
       "      <th>8</th>\n",
       "      <td>exang</td>\n",
       "      <td>int64</td>\n",
       "      <td>exercise induced angina</td>\n",
       "      <td>0.0</td>\n",
       "      <td>1.0</td>\n",
       "    </tr>\n",
       "    <tr>\n",
       "      <th>9</th>\n",
       "      <td>oldpeak</td>\n",
       "      <td>float64</td>\n",
       "      <td>oldpeak = ST depression induced by exercise re...</td>\n",
       "      <td>0.0</td>\n",
       "      <td>6.2</td>\n",
       "    </tr>\n",
       "    <tr>\n",
       "      <th>10</th>\n",
       "      <td>slope</td>\n",
       "      <td>int64</td>\n",
       "      <td>the slope of the peak exercise ST segment</td>\n",
       "      <td>0.0</td>\n",
       "      <td>2.0</td>\n",
       "    </tr>\n",
       "    <tr>\n",
       "      <th>11</th>\n",
       "      <td>ca</td>\n",
       "      <td>int64</td>\n",
       "      <td>number of major vessels (0-3) colored by flour...</td>\n",
       "      <td>0.0</td>\n",
       "      <td>4.0</td>\n",
       "    </tr>\n",
       "    <tr>\n",
       "      <th>12</th>\n",
       "      <td>thal</td>\n",
       "      <td>int64</td>\n",
       "      <td>thal: 0 = normal; 1 = fixed defect; 2 = revers...</td>\n",
       "      <td>0.0</td>\n",
       "      <td>3.0</td>\n",
       "    </tr>\n",
       "    <tr>\n",
       "      <th>13</th>\n",
       "      <td>target</td>\n",
       "      <td>int64</td>\n",
       "      <td>presence of heart disease. 0 = no disease and ...</td>\n",
       "      <td>0.0</td>\n",
       "      <td>1.0</td>\n",
       "    </tr>\n",
       "  </tbody>\n",
       "</table>\n",
       "</div>"
      ],
      "text/plain": [
       "   FieldName DataType                                        Description  \\\n",
       "0        age    int64                                                age   \n",
       "1        sex    int64                                                sex   \n",
       "2         cp    int64                         chest pain type (4 values)   \n",
       "3   trestbps    int64                             resting blood pressure   \n",
       "4       chol    int64                         serum cholestoral in mg/dl   \n",
       "5        fbs    int64                    fasting blood sugar > 120 mg/dl   \n",
       "6    restecg    int64  resting electrocardiographic results (values 0...   \n",
       "7    thalach    int64                        maximum heart rate achieved   \n",
       "8      exang    int64                            exercise induced angina   \n",
       "9    oldpeak  float64  oldpeak = ST depression induced by exercise re...   \n",
       "10     slope    int64          the slope of the peak exercise ST segment   \n",
       "11        ca    int64  number of major vessels (0-3) colored by flour...   \n",
       "12      thal    int64  thal: 0 = normal; 1 = fixed defect; 2 = revers...   \n",
       "13    target    int64  presence of heart disease. 0 = no disease and ...   \n",
       "\n",
       "      Min    Max  \n",
       "0    29.0   77.0  \n",
       "1     0.0    1.0  \n",
       "2     0.0    3.0  \n",
       "3    94.0  200.0  \n",
       "4   126.0  564.0  \n",
       "5     0.0    1.0  \n",
       "6     0.0    2.0  \n",
       "7    71.0  202.0  \n",
       "8     0.0    1.0  \n",
       "9     0.0    6.2  \n",
       "10    0.0    2.0  \n",
       "11    0.0    4.0  \n",
       "12    0.0    3.0  \n",
       "13    0.0    1.0  "
      ]
     },
     "execution_count": 4,
     "metadata": {},
     "output_type": "execute_result"
    }
   ],
   "source": [
    "# Creating a Data Dictionary for the dataset:\n",
    "# We will collect the following:\n",
    "# - Field names (column names)\n",
    "# - Data types\n",
    "# - Descriptions (based on Kaggle's dataset page)\n",
    "# - Max and Min values for numerical columns\n",
    "\n",
    "# Column names and data types\n",
    "kaggle_field_list = df_kaggle.columns.tolist()  # List of column names\n",
    "kaggle_dtype_list = df_kaggle.dtypes.astype(str).tolist()  # List of column data types as strings\n",
    "\n",
    "# Description of each field based on Kaggle's dataset page\n",
    "kaggle_description_list = [\n",
    "    \"age\",\n",
    "    \"sex\",\n",
    "    \"chest pain type (4 values)\",\n",
    "    \"resting blood pressure\",\n",
    "    \"serum cholestoral in mg/dl\",\n",
    "    \"fasting blood sugar > 120 mg/dl\",\n",
    "    \"resting electrocardiographic results (values 0,1,2)\",\n",
    "    \"maximum heart rate achieved\",\n",
    "    \"exercise induced angina\",\n",
    "    \"oldpeak = ST depression induced by exercise relative to rest\",\n",
    "    \"the slope of the peak exercise ST segment\",\n",
    "    \"number of major vessels (0-3) colored by flourosopy\",\n",
    "    \"thal: 0 = normal; 1 = fixed defect; 2 = reversable defect\",\n",
    "    \"presence of heart disease. 0 = no disease and 1 = disease.\"\n",
    "]\n",
    "\n",
    "# Max and min values for each column\n",
    "kaggle_max_list = df_kaggle.max().to_list()  # List of max values for each column\n",
    "kaggle_min_list = df_kaggle.min().to_list()  # List of min values for each column\n",
    "\n",
    "# Combine all lists into one DataFrame for easier reference\n",
    "kaggle_concat_list = [\n",
    "    kaggle_field_list,\n",
    "    kaggle_dtype_list,\n",
    "    kaggle_description_list,\n",
    "    kaggle_min_list,\n",
    "    kaggle_max_list\n",
    "]\n",
    "\n",
    "# The lists need to be converted to Series before concatenating\n",
    "df_kaggle_data_dictionary = pd.DataFrame(pd.concat([pd.Series(x) for x in kaggle_concat_list], axis=1))\n",
    "\n",
    "# Set column names for the new DataFrame\n",
    "df_kaggle_data_dictionary.columns = [\"FieldName\", \"DataType\", \"Description\", \"Min\", \"Max\"]\n",
    "\n",
    "# Display the data dictionary rounded to 1 decimal point for readability\n",
    "df_kaggle_data_dictionary.round(1)"
   ]
  },
  {
   "cell_type": "markdown",
   "id": "fb161528-41cb-44ff-bd96-a3603004bf12",
   "metadata": {
    "jp-MarkdownHeadingCollapsed": true
   },
   "source": [
    "#### Summary Statistics"
   ]
  },
  {
   "cell_type": "markdown",
   "id": "166afb10-3cb2-4fc4-a647-07cae4762eae",
   "metadata": {},
   "source": [
    "Generate summary statistics for the numerical columns in the dataset, rounding the results to two decimal places."
   ]
  },
  {
   "cell_type": "code",
   "execution_count": 9,
   "id": "e3483ddf-6750-412e-af0d-0fe18b42557d",
   "metadata": {},
   "outputs": [
    {
     "data": {
      "text/html": [
       "<div>\n",
       "<style scoped>\n",
       "    .dataframe tbody tr th:only-of-type {\n",
       "        vertical-align: middle;\n",
       "    }\n",
       "\n",
       "    .dataframe tbody tr th {\n",
       "        vertical-align: top;\n",
       "    }\n",
       "\n",
       "    .dataframe thead th {\n",
       "        text-align: right;\n",
       "    }\n",
       "</style>\n",
       "<table border=\"1\" class=\"dataframe\">\n",
       "  <thead>\n",
       "    <tr style=\"text-align: right;\">\n",
       "      <th></th>\n",
       "      <th>age</th>\n",
       "      <th>sex</th>\n",
       "      <th>cp</th>\n",
       "      <th>trestbps</th>\n",
       "      <th>chol</th>\n",
       "      <th>fbs</th>\n",
       "      <th>restecg</th>\n",
       "      <th>thalach</th>\n",
       "      <th>exang</th>\n",
       "      <th>oldpeak</th>\n",
       "      <th>slope</th>\n",
       "      <th>ca</th>\n",
       "      <th>thal</th>\n",
       "      <th>target</th>\n",
       "    </tr>\n",
       "  </thead>\n",
       "  <tbody>\n",
       "    <tr>\n",
       "      <th>count</th>\n",
       "      <td>1025.00</td>\n",
       "      <td>1025.00</td>\n",
       "      <td>1025.00</td>\n",
       "      <td>1025.00</td>\n",
       "      <td>1025.00</td>\n",
       "      <td>1025.00</td>\n",
       "      <td>1025.00</td>\n",
       "      <td>1025.00</td>\n",
       "      <td>1025.00</td>\n",
       "      <td>1025.00</td>\n",
       "      <td>1025.00</td>\n",
       "      <td>1025.00</td>\n",
       "      <td>1025.00</td>\n",
       "      <td>1025.00</td>\n",
       "    </tr>\n",
       "    <tr>\n",
       "      <th>mean</th>\n",
       "      <td>54.43</td>\n",
       "      <td>0.70</td>\n",
       "      <td>0.94</td>\n",
       "      <td>131.61</td>\n",
       "      <td>246.00</td>\n",
       "      <td>0.15</td>\n",
       "      <td>0.53</td>\n",
       "      <td>149.11</td>\n",
       "      <td>0.34</td>\n",
       "      <td>1.07</td>\n",
       "      <td>1.39</td>\n",
       "      <td>0.75</td>\n",
       "      <td>2.32</td>\n",
       "      <td>0.51</td>\n",
       "    </tr>\n",
       "    <tr>\n",
       "      <th>std</th>\n",
       "      <td>9.07</td>\n",
       "      <td>0.46</td>\n",
       "      <td>1.03</td>\n",
       "      <td>17.52</td>\n",
       "      <td>51.59</td>\n",
       "      <td>0.36</td>\n",
       "      <td>0.53</td>\n",
       "      <td>23.01</td>\n",
       "      <td>0.47</td>\n",
       "      <td>1.18</td>\n",
       "      <td>0.62</td>\n",
       "      <td>1.03</td>\n",
       "      <td>0.62</td>\n",
       "      <td>0.50</td>\n",
       "    </tr>\n",
       "    <tr>\n",
       "      <th>min</th>\n",
       "      <td>29.00</td>\n",
       "      <td>0.00</td>\n",
       "      <td>0.00</td>\n",
       "      <td>94.00</td>\n",
       "      <td>126.00</td>\n",
       "      <td>0.00</td>\n",
       "      <td>0.00</td>\n",
       "      <td>71.00</td>\n",
       "      <td>0.00</td>\n",
       "      <td>0.00</td>\n",
       "      <td>0.00</td>\n",
       "      <td>0.00</td>\n",
       "      <td>0.00</td>\n",
       "      <td>0.00</td>\n",
       "    </tr>\n",
       "    <tr>\n",
       "      <th>25%</th>\n",
       "      <td>48.00</td>\n",
       "      <td>0.00</td>\n",
       "      <td>0.00</td>\n",
       "      <td>120.00</td>\n",
       "      <td>211.00</td>\n",
       "      <td>0.00</td>\n",
       "      <td>0.00</td>\n",
       "      <td>132.00</td>\n",
       "      <td>0.00</td>\n",
       "      <td>0.00</td>\n",
       "      <td>1.00</td>\n",
       "      <td>0.00</td>\n",
       "      <td>2.00</td>\n",
       "      <td>0.00</td>\n",
       "    </tr>\n",
       "    <tr>\n",
       "      <th>50%</th>\n",
       "      <td>56.00</td>\n",
       "      <td>1.00</td>\n",
       "      <td>1.00</td>\n",
       "      <td>130.00</td>\n",
       "      <td>240.00</td>\n",
       "      <td>0.00</td>\n",
       "      <td>1.00</td>\n",
       "      <td>152.00</td>\n",
       "      <td>0.00</td>\n",
       "      <td>0.80</td>\n",
       "      <td>1.00</td>\n",
       "      <td>0.00</td>\n",
       "      <td>2.00</td>\n",
       "      <td>1.00</td>\n",
       "    </tr>\n",
       "    <tr>\n",
       "      <th>75%</th>\n",
       "      <td>61.00</td>\n",
       "      <td>1.00</td>\n",
       "      <td>2.00</td>\n",
       "      <td>140.00</td>\n",
       "      <td>275.00</td>\n",
       "      <td>0.00</td>\n",
       "      <td>1.00</td>\n",
       "      <td>166.00</td>\n",
       "      <td>1.00</td>\n",
       "      <td>1.80</td>\n",
       "      <td>2.00</td>\n",
       "      <td>1.00</td>\n",
       "      <td>3.00</td>\n",
       "      <td>1.00</td>\n",
       "    </tr>\n",
       "    <tr>\n",
       "      <th>max</th>\n",
       "      <td>77.00</td>\n",
       "      <td>1.00</td>\n",
       "      <td>3.00</td>\n",
       "      <td>200.00</td>\n",
       "      <td>564.00</td>\n",
       "      <td>1.00</td>\n",
       "      <td>2.00</td>\n",
       "      <td>202.00</td>\n",
       "      <td>1.00</td>\n",
       "      <td>6.20</td>\n",
       "      <td>2.00</td>\n",
       "      <td>4.00</td>\n",
       "      <td>3.00</td>\n",
       "      <td>1.00</td>\n",
       "    </tr>\n",
       "  </tbody>\n",
       "</table>\n",
       "</div>"
      ],
      "text/plain": [
       "           age      sex       cp  trestbps     chol      fbs  restecg  \\\n",
       "count  1025.00  1025.00  1025.00   1025.00  1025.00  1025.00  1025.00   \n",
       "mean     54.43     0.70     0.94    131.61   246.00     0.15     0.53   \n",
       "std       9.07     0.46     1.03     17.52    51.59     0.36     0.53   \n",
       "min      29.00     0.00     0.00     94.00   126.00     0.00     0.00   \n",
       "25%      48.00     0.00     0.00    120.00   211.00     0.00     0.00   \n",
       "50%      56.00     1.00     1.00    130.00   240.00     0.00     1.00   \n",
       "75%      61.00     1.00     2.00    140.00   275.00     0.00     1.00   \n",
       "max      77.00     1.00     3.00    200.00   564.00     1.00     2.00   \n",
       "\n",
       "       thalach    exang  oldpeak    slope       ca     thal   target  \n",
       "count  1025.00  1025.00  1025.00  1025.00  1025.00  1025.00  1025.00  \n",
       "mean    149.11     0.34     1.07     1.39     0.75     2.32     0.51  \n",
       "std      23.01     0.47     1.18     0.62     1.03     0.62     0.50  \n",
       "min      71.00     0.00     0.00     0.00     0.00     0.00     0.00  \n",
       "25%     132.00     0.00     0.00     1.00     0.00     2.00     0.00  \n",
       "50%     152.00     0.00     0.80     1.00     0.00     2.00     1.00  \n",
       "75%     166.00     1.00     1.80     2.00     1.00     3.00     1.00  \n",
       "max     202.00     1.00     6.20     2.00     4.00     3.00     1.00  "
      ]
     },
     "execution_count": 9,
     "metadata": {},
     "output_type": "execute_result"
    }
   ],
   "source": [
    "# Generate summary statistics for numerical columns and round the results to two decimal places\n",
    "df_kaggle.describe().round(2)"
   ]
  },
  {
   "cell_type": "markdown",
   "id": "b4ca2233-e8bf-40b7-a852-f408917e9848",
   "metadata": {},
   "source": [
    "**Notes:**\n",
    "- The dataset appears to contain more rows than expected.\n",
    "- We expected 303.\n",
    "- This discrepancy may indicate data issues, such as extra rows or duplicate entries that need to be investigated and cleaned."
   ]
  },
  {
   "cell_type": "markdown",
   "id": "b0b4dd6b-eb5c-4dc4-9dc8-7577eba475c6",
   "metadata": {
    "jp-MarkdownHeadingCollapsed": true
   },
   "source": [
    "#### Count Null Values per Column"
   ]
  },
  {
   "cell_type": "markdown",
   "id": "cdcacabc-5248-44df-8cbd-5f44336411b3",
   "metadata": {},
   "source": [
    "This step counts the missing (null) values in each column to assess the completeness of the dataset and guide decisions on handling missing data."
   ]
  },
  {
   "cell_type": "code",
   "execution_count": 10,
   "id": "c5c3cc30-7cd3-4510-8157-d5cbb4ae32d6",
   "metadata": {},
   "outputs": [
    {
     "data": {
      "text/plain": [
       "age         0\n",
       "sex         0\n",
       "cp          0\n",
       "trestbps    0\n",
       "chol        0\n",
       "fbs         0\n",
       "restecg     0\n",
       "thalach     0\n",
       "exang       0\n",
       "oldpeak     0\n",
       "slope       0\n",
       "ca          0\n",
       "thal        0\n",
       "target      0\n",
       "dtype: int64"
      ]
     },
     "execution_count": 10,
     "metadata": {},
     "output_type": "execute_result"
    }
   ],
   "source": [
    "# Count the number of missing (null) values per column in the dataset\n",
    "df_kaggle.isnull().sum()"
   ]
  },
  {
   "cell_type": "markdown",
   "id": "5eb92f40-799e-4388-962f-c00180139565",
   "metadata": {
    "jp-MarkdownHeadingCollapsed": true
   },
   "source": [
    "#### Count Duplicated Rows"
   ]
  },
  {
   "cell_type": "markdown",
   "id": "f60a0b69-3d57-4178-9405-44c50cf02691",
   "metadata": {},
   "source": [
    "Calculate the number of duplicated rows in the dataset, helping identify copied data."
   ]
  },
  {
   "cell_type": "code",
   "execution_count": 11,
   "id": "992c7e13-ed2a-4b12-8acb-1ad9f416c910",
   "metadata": {},
   "outputs": [
    {
     "data": {
      "text/plain": [
       "723"
      ]
     },
     "execution_count": 11,
     "metadata": {},
     "output_type": "execute_result"
    }
   ],
   "source": [
    "# Calculate the number of duplicated rows in the dataset\n",
    "df_kaggle.duplicated().sum()"
   ]
  },
  {
   "cell_type": "markdown",
   "id": "7661b4f0-21d1-4142-b005-5b3627035123",
   "metadata": {
    "jp-MarkdownHeadingCollapsed": true
   },
   "source": [
    "#### Count Unique Rows"
   ]
  },
  {
   "cell_type": "markdown",
   "id": "7accaed8-02cf-4818-a5ae-e5be73f84401",
   "metadata": {},
   "source": [
    "Identify and count the unique rows in the dataset."
   ]
  },
  {
   "cell_type": "code",
   "execution_count": 13,
   "id": "929b5efc-5329-417c-88a0-6cd2a1f874f6",
   "metadata": {},
   "outputs": [
    {
     "data": {
      "text/plain": [
       "(302, 14)"
      ]
     },
     "execution_count": 13,
     "metadata": {},
     "output_type": "execute_result"
    }
   ],
   "source": [
    "# Get the unique rows in the DataFrame (removing duplicates)\n",
    "unique_rows = np.unique(df_kaggle, axis=0)\n",
    "\n",
    "# Display the shape of the unique rows (number of unique records)\n",
    "unique_rows.shape"
   ]
  },
  {
   "cell_type": "markdown",
   "id": "acfb4077-7eae-43b9-8436-b103ef38c32d",
   "metadata": {},
   "source": [
    "## 4. Data Processing & Exploration - UCI Dataset"
   ]
  },
  {
   "cell_type": "markdown",
   "id": "22960600-c511-4d04-a54a-7e73ccc01cf3",
   "metadata": {},
   "source": [
    "### 4.1 Data Processing"
   ]
  },
  {
   "cell_type": "markdown",
   "id": "18978f00-2409-4dac-93e9-e7a49b2b8fe8",
   "metadata": {},
   "source": [
    "#### Data Loading"
   ]
  },
  {
   "cell_type": "markdown",
   "id": "2a44343a-49e6-4880-8862-f36889374b0a",
   "metadata": {},
   "source": [
    "#### Data Dictionary"
   ]
  },
  {
   "cell_type": "markdown",
   "id": "c56848b5-7964-4ea7-b095-59f252b52993",
   "metadata": {},
   "source": [
    "#### Summary Statistics"
   ]
  },
  {
   "cell_type": "markdown",
   "id": "00c7569a-603e-4c10-a580-6ee48ef49528",
   "metadata": {},
   "source": [
    "####"
   ]
  },
  {
   "cell_type": "markdown",
   "id": "711adfad-c52c-464e-9901-c50d2a498262",
   "metadata": {},
   "source": [
    "### 4.2 Data Exploration"
   ]
  },
  {
   "cell_type": "markdown",
   "id": "3445f3be-4dcd-4f6d-bb45-356334ca03f1",
   "metadata": {},
   "source": []
  },
  {
   "cell_type": "markdown",
   "id": "f3623c70-151b-4a7a-9ebb-3ea7d559700f",
   "metadata": {},
   "source": []
  },
  {
   "cell_type": "code",
   "execution_count": null,
   "id": "3da77cf2-3b6c-4dda-9c75-02dc37297119",
   "metadata": {},
   "outputs": [],
   "source": []
  },
  {
   "cell_type": "markdown",
   "id": "1100ffb5-d1c2-4b15-8150-dcd8deca2e58",
   "metadata": {},
   "source": []
  },
  {
   "cell_type": "code",
   "execution_count": null,
   "id": "b38ff225-03d6-43f8-9e8b-b4d6dd4da5d4",
   "metadata": {},
   "outputs": [],
   "source": []
  },
  {
   "cell_type": "markdown",
   "id": "35bf9323-3ec5-4df8-86ea-60cbb13c1ed8",
   "metadata": {},
   "source": []
  },
  {
   "cell_type": "code",
   "execution_count": null,
   "id": "d72e531b-3dac-403a-abd6-bde221810a57",
   "metadata": {},
   "outputs": [],
   "source": []
  },
  {
   "cell_type": "markdown",
   "id": "cf33d19d-8cf3-44be-9ac2-b8cdc7e8b76f",
   "metadata": {},
   "source": []
  },
  {
   "cell_type": "code",
   "execution_count": null,
   "id": "d94b55ef-e1b0-4205-842f-ab1f8f8bdde1",
   "metadata": {},
   "outputs": [],
   "source": []
  },
  {
   "cell_type": "markdown",
   "id": "81fb96df-187f-4633-9c93-45e05e260bc3",
   "metadata": {},
   "source": []
  },
  {
   "cell_type": "code",
   "execution_count": null,
   "id": "f26a9f51-9f47-43d6-9b59-f752996c59fb",
   "metadata": {},
   "outputs": [],
   "source": []
  }
 ],
 "metadata": {
  "kernelspec": {
   "display_name": "Python 3 (ipykernel)",
   "language": "python",
   "name": "python3"
  },
  "language_info": {
   "codemirror_mode": {
    "name": "ipython",
    "version": 3
   },
   "file_extension": ".py",
   "mimetype": "text/x-python",
   "name": "python",
   "nbconvert_exporter": "python",
   "pygments_lexer": "ipython3",
   "version": "3.11.3"
  }
 },
 "nbformat": 4,
 "nbformat_minor": 5
}
